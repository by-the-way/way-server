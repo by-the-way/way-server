{
 "cells": [
  {
   "cell_type": "code",
   "execution_count": 1,
   "metadata": {
    "collapsed": true
   },
   "outputs": [],
   "source": [
    "from uber_rides.session import Session\n",
    "session = Session(server_token=\"T_5Iy7J4eGsxHn9DBp0n76fAFr_hVwiRxYVwLK7N\")"
   ]
  },
  {
   "cell_type": "code",
   "execution_count": 2,
   "metadata": {
    "collapsed": true
   },
   "outputs": [],
   "source": [
    "from uber_rides.client import UberRidesClient\n",
    "client = UberRidesClient(session)"
   ]
  },
  {
   "cell_type": "code",
   "execution_count": 2,
   "metadata": {
    "collapsed": false
   },
   "outputs": [
    {
     "ename": "TypeError",
     "evalue": "__init__() takes exactly 5 arguments (4 given)",
     "output_type": "error",
     "traceback": [
      "\u001b[0;31m---------------------------------------------------------------------------\u001b[0m",
      "\u001b[0;31mTypeError\u001b[0m                                 Traceback (most recent call last)",
      "\u001b[0;32m<ipython-input-2-26adaf170913>\u001b[0m in \u001b[0;36m<module>\u001b[0;34m()\u001b[0m\n\u001b[1;32m      4\u001b[0m     \u001b[0;31m#YOUR_PERMISSION_SCOPES,\u001b[0m\u001b[0;34m\u001b[0m\u001b[0;34m\u001b[0m\u001b[0m\n\u001b[1;32m      5\u001b[0m     \u001b[0;34m\"SX0q9y9TTri2JdUKVnUWpfuZ7BvnQOjmMosqJsKp\"\u001b[0m\u001b[0;34m,\u001b[0m\u001b[0;31m#YOUR_CLIENT_SECRET,\u001b[0m\u001b[0;34m\u001b[0m\u001b[0m\n\u001b[0;32m----> 6\u001b[0;31m     \u001b[0;34m\"https://api.uber.com/v1/\"\u001b[0m\u001b[0;34m,\u001b[0m\u001b[0;31m#YOUR_REDIRECT_URL,\u001b[0m\u001b[0;34m\u001b[0m\u001b[0m\n\u001b[0m\u001b[1;32m      7\u001b[0m )\n\u001b[1;32m      8\u001b[0m \u001b[0mauth_url\u001b[0m \u001b[0;34m=\u001b[0m \u001b[0mauth_flow\u001b[0m\u001b[0;34m.\u001b[0m\u001b[0mget_authorization_url\u001b[0m\u001b[0;34m(\u001b[0m\u001b[0;34m)\u001b[0m\u001b[0;34m\u001b[0m\u001b[0m\n",
      "\u001b[0;31mTypeError\u001b[0m: __init__() takes exactly 5 arguments (4 given)"
     ]
    }
   ],
   "source": [
    "from uber_rides.auth import AuthorizationCodeGrant\n",
    "auth_flow = AuthorizationCodeGrant(\n",
    "    \"mey9LOxdwtp2hqFXuNBCLmu5CsC1ncBu\", #YOUR_CLIENT_ID,\n",
    "    \"profile\"#YOUR_PERMISSION_SCOPES,\n",
    "    \"SX0q9y9TTri2JdUKVnUWpfuZ7BvnQOjmMosqJsKp\",#YOUR_CLIENT_SECRET,\n",
    "    \"https://api.uber.com/v1/\",#YOUR_REDIRECT_URL,\n",
    ")\n",
    "auth_url = auth_flow.get_authorization_url()"
   ]
  },
  {
   "cell_type": "code",
   "execution_count": null,
   "metadata": {
    "collapsed": true
   },
   "outputs": [],
   "source": []
  }
 ],
 "metadata": {
  "kernelspec": {
   "display_name": "Python 2",
   "language": "python",
   "name": "python2"
  },
  "language_info": {
   "codemirror_mode": {
    "name": "ipython",
    "version": 2
   },
   "file_extension": ".py",
   "mimetype": "text/x-python",
   "name": "python",
   "nbconvert_exporter": "python",
   "pygments_lexer": "ipython2",
   "version": "2.7.10"
  }
 },
 "nbformat": 4,
 "nbformat_minor": 0
}
